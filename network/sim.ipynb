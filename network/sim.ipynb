{
 "cells": [
  {
   "cell_type": "code",
   "execution_count": 2,
   "metadata": {},
   "outputs": [],
   "source": [
    "import sem\n",
    "import pprint\n",
    "import matplotlib.pyplot as plt\n",
    "import seaborn as sns\n",
    "sns.set_style(\"white\")"
   ]
  },
  {
   "cell_type": "markdown",
   "metadata": {},
   "source": [
    "# wifi-tcp"
   ]
  },
  {
   "cell_type": "code",
   "execution_count": 4,
   "metadata": {},
   "outputs": [
    {
     "name": "stderr",
     "output_type": "stream",
     "text": [
      "Building ns-3: 100%|██████████| [18:10<00:00]\n"
     ]
    },
    {
     "ename": "FileNotFoundError",
     "evalue": "[Errno 2] No such file or directory: '/Users/nicolez/Documents/ns-allinone-3.36.1/ns-3.36.1/build/optimized/build-status.py'",
     "output_type": "error",
     "traceback": [
      "\u001b[0;31m---------------------------------------------------------------------------\u001b[0m",
      "\u001b[0;31mFileNotFoundError\u001b[0m                         Traceback (most recent call last)",
      "\u001b[1;32m/Users/nicolez/Documents/GitHub/IoMT-project/network/sim.ipynb Cell 3'\u001b[0m in \u001b[0;36m<cell line: 4>\u001b[0;34m()\u001b[0m\n\u001b[1;32m      <a href='vscode-notebook-cell:/Users/nicolez/Documents/GitHub/IoMT-project/network/sim.ipynb#ch0000001?line=1'>2</a>\u001b[0m script \u001b[39m=\u001b[39m \u001b[39m'\u001b[39m\u001b[39mwifi-tcp\u001b[39m\u001b[39m'\u001b[39m\n\u001b[1;32m      <a href='vscode-notebook-cell:/Users/nicolez/Documents/GitHub/IoMT-project/network/sim.ipynb#ch0000001?line=2'>3</a>\u001b[0m campaign_dir \u001b[39m=\u001b[39m \u001b[39m\"\u001b[39m\u001b[39mresults\u001b[39m\u001b[39m\"\u001b[39m\n\u001b[0;32m----> <a href='vscode-notebook-cell:/Users/nicolez/Documents/GitHub/IoMT-project/network/sim.ipynb#ch0000001?line=3'>4</a>\u001b[0m campaign \u001b[39m=\u001b[39m sem\u001b[39m.\u001b[39;49mCampaignManager\u001b[39m.\u001b[39;49mnew(ns_path, \n\u001b[1;32m      <a href='vscode-notebook-cell:/Users/nicolez/Documents/GitHub/IoMT-project/network/sim.ipynb#ch0000001?line=4'>5</a>\u001b[0m                                    script, \n\u001b[1;32m      <a href='vscode-notebook-cell:/Users/nicolez/Documents/GitHub/IoMT-project/network/sim.ipynb#ch0000001?line=5'>6</a>\u001b[0m                                    campaign_dir, \n\u001b[1;32m      <a href='vscode-notebook-cell:/Users/nicolez/Documents/GitHub/IoMT-project/network/sim.ipynb#ch0000001?line=6'>7</a>\u001b[0m                                    overwrite\u001b[39m=\u001b[39;49m\u001b[39mTrue\u001b[39;49;00m,\n\u001b[1;32m      <a href='vscode-notebook-cell:/Users/nicolez/Documents/GitHub/IoMT-project/network/sim.ipynb#ch0000001?line=7'>8</a>\u001b[0m                                    max_parallel_processes\u001b[39m=\u001b[39;49m\u001b[39m8\u001b[39;49m)\n",
      "File \u001b[0;32m~/Library/Python/3.9/lib/python/site-packages/sem/manager.py:157\u001b[0m, in \u001b[0;36mCampaignManager.new\u001b[0;34m(cls, ns_path, script, campaign_dir, runner_type, overwrite, optimized, check_repo, skip_configuration, max_parallel_processes)\u001b[0m\n\u001b[1;32m    154\u001b[0m         \u001b[39mdel\u001b[39;00m manager\n\u001b[1;32m    156\u001b[0m \u001b[39m# Initialize runner\u001b[39;00m\n\u001b[0;32m--> 157\u001b[0m runner \u001b[39m=\u001b[39m CampaignManager\u001b[39m.\u001b[39;49mcreate_runner(ns_path, script,\n\u001b[1;32m    158\u001b[0m                                        runner_type\u001b[39m=\u001b[39;49mrunner_type,\n\u001b[1;32m    159\u001b[0m                                        optimized\u001b[39m=\u001b[39;49moptimized,\n\u001b[1;32m    160\u001b[0m                                        skip_configuration\u001b[39m=\u001b[39;49mskip_configuration,\n\u001b[1;32m    161\u001b[0m                                        max_parallel_processes\u001b[39m=\u001b[39;49mmax_parallel_processes)\n\u001b[1;32m    163\u001b[0m \u001b[39m# Get list of parameters to save in the DB\u001b[39;00m\n\u001b[1;32m    164\u001b[0m params \u001b[39m=\u001b[39m runner\u001b[39m.\u001b[39mget_available_parameters()\n",
      "File \u001b[0;32m~/Library/Python/3.9/lib/python/site-packages/sem/manager.py:260\u001b[0m, in \u001b[0;36mCampaignManager.create_runner\u001b[0;34m(ns_path, script, runner_type, optimized, skip_configuration, max_parallel_processes)\u001b[0m\n\u001b[1;32m    257\u001b[0m \u001b[39melif\u001b[39;00m runner_type \u001b[39m==\u001b[39m \u001b[39m'\u001b[39m\u001b[39mAuto\u001b[39m\u001b[39m'\u001b[39m:\n\u001b[1;32m    258\u001b[0m     runner_type \u001b[39m=\u001b[39m \u001b[39m'\u001b[39m\u001b[39mParallelRunner\u001b[39m\u001b[39m'\u001b[39m\n\u001b[0;32m--> 260\u001b[0m \u001b[39mreturn\u001b[39;00m \u001b[39mlocals\u001b[39;49m()\u001b[39m.\u001b[39;49mget(runner_type,\n\u001b[1;32m    261\u001b[0m                     \u001b[39mglobals\u001b[39;49m()\u001b[39m.\u001b[39;49mget(runner_type))(\n\u001b[1;32m    262\u001b[0m                         ns_path, script, optimized\u001b[39m=\u001b[39;49moptimized,\n\u001b[1;32m    263\u001b[0m                         skip_configuration\u001b[39m=\u001b[39;49mskip_configuration,\n\u001b[1;32m    264\u001b[0m                         max_parallel_processes\u001b[39m=\u001b[39;49mmax_parallel_processes)\n",
      "File \u001b[0;32m~/Library/Python/3.9/lib/python/site-packages/sem/runner.py:78\u001b[0m, in \u001b[0;36mSimulationRunner.__init__\u001b[0;34m(self, path, script, optimized, skip_configuration, max_parallel_processes)\u001b[0m\n\u001b[1;32m     75\u001b[0m     spec \u001b[39m=\u001b[39m importlib\u001b[39m.\u001b[39mutil\u001b[39m.\u001b[39mspec_from_file_location(\u001b[39m'\u001b[39m\u001b[39mbuild_status\u001b[39m\u001b[39m'\u001b[39m,\n\u001b[1;32m     76\u001b[0m                                                   build_status_path)\n\u001b[1;32m     77\u001b[0m     build_status \u001b[39m=\u001b[39m importlib\u001b[39m.\u001b[39mutil\u001b[39m.\u001b[39mmodule_from_spec(spec)\n\u001b[0;32m---> 78\u001b[0m     spec\u001b[39m.\u001b[39;49mloader\u001b[39m.\u001b[39;49mexec_module(build_status)\n\u001b[1;32m     79\u001b[0m \u001b[39mexcept\u001b[39;00m (\u001b[39mAttributeError\u001b[39;00m):  \u001b[39m# This happens in Python <= 3.4\u001b[39;00m\n\u001b[1;32m     80\u001b[0m     \u001b[39mimport\u001b[39;00m \u001b[39mimp\u001b[39;00m\n",
      "File \u001b[0;32m<frozen importlib._bootstrap_external>:846\u001b[0m, in \u001b[0;36mexec_module\u001b[0;34m(self, module)\u001b[0m\n",
      "File \u001b[0;32m<frozen importlib._bootstrap_external>:982\u001b[0m, in \u001b[0;36mget_code\u001b[0;34m(self, fullname)\u001b[0m\n",
      "File \u001b[0;32m<frozen importlib._bootstrap_external>:1039\u001b[0m, in \u001b[0;36mget_data\u001b[0;34m(self, path)\u001b[0m\n",
      "\u001b[0;31mFileNotFoundError\u001b[0m: [Errno 2] No such file or directory: '/Users/nicolez/Documents/ns-allinone-3.36.1/ns-3.36.1/build/optimized/build-status.py'"
     ]
    }
   ],
   "source": [
    "ns_path = '../../../ns-allinone-3.36.1/ns-3.36.1'\n",
    "script = 'wifi-tcp'\n",
    "campaign_dir = \"results\"\n",
    "campaign = sem.CampaignManager.new(ns_path, script, campaign_dir, overwrite=True, max_parallel_processes=8)"
   ]
  },
  {
   "cell_type": "code",
   "execution_count": null,
   "metadata": {},
   "outputs": [],
   "source": [
    "print(campaign)"
   ]
  },
  {
   "cell_type": "code",
   "execution_count": null,
   "metadata": {},
   "outputs": [],
   "source": [
    "payloadSize = 20\n",
    "dataRate = 10\n",
    "\n",
    "params = {\"payloadSize\": [payloadSize], \"dataRate\": [dataRate]}\n",
    "runs = 10\n",
    "campaign.run_missing_simulations(params, runs=runs)\n"
   ]
  }
 ],
 "metadata": {
  "kernelspec": {
   "display_name": "Python 3.9.12 64-bit",
   "language": "python",
   "name": "python3"
  },
  "language_info": {
   "codemirror_mode": {
    "name": "ipython",
    "version": 3
   },
   "file_extension": ".py",
   "mimetype": "text/x-python",
   "name": "python",
   "nbconvert_exporter": "python",
   "pygments_lexer": "ipython3",
   "version": "3.9.12"
  },
  "orig_nbformat": 4,
  "vscode": {
   "interpreter": {
    "hash": "aee8b7b246df8f9039afb4144a1f6fd8d2ca17a180786b69acc140d282b71a49"
   }
  }
 },
 "nbformat": 4,
 "nbformat_minor": 2
}
